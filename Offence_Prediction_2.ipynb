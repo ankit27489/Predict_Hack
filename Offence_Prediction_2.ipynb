{
 "cells": [
  {
   "cell_type": "code",
   "execution_count": 1,
   "metadata": {},
   "outputs": [],
   "source": [
    "# importing required libraries\n",
    "\n",
    "import pandas as pd\n",
    "import numpy as np\n",
    "import matplotlib.pyplot as plt\n",
    "%matplotlib inline\n",
    "import seaborn as sns"
   ]
  },
  {
   "cell_type": "code",
   "execution_count": 2,
   "metadata": {},
   "outputs": [],
   "source": [
    "# Setting no limit to display of rows and columns\n",
    "\n",
    "pd.set_option(\"display.max_rows\", None)\n",
    "pd.set_option(\"display.max_columns\", None)"
   ]
  },
  {
   "cell_type": "code",
   "execution_count": 43,
   "metadata": {},
   "outputs": [],
   "source": [
    "from sklearn.model_selection import train_test_split\n",
    "from sklearn.linear_model import LogisticRegression\n",
    "from sklearn.ensemble import RandomForestClassifier\n",
    "import xgboost as xgb\n",
    "from sklearn.model_selection import RandomizedSearchCV\n",
    "from sklearn.metrics import accuracy_score, recall_score, confusion_matrix, precision_recall_curve\n",
    "from sklearn.metrics import plot_precision_recall_curve, average_precision_score\n",
    "from sklearn.metrics import roc_curve, roc_auc_score"
   ]
  },
  {
   "cell_type": "code",
   "execution_count": 4,
   "metadata": {},
   "outputs": [],
   "source": [
    "# Reading train and test files\n",
    "\n",
    "train_df = pd.read_csv(\"Train.csv\")\n",
    "test_df = pd.read_csv(\"Test.csv\")"
   ]
  },
  {
   "cell_type": "markdown",
   "metadata": {},
   "source": [
    "# Exploratory Data Analysis"
   ]
  },
  {
   "cell_type": "code",
   "execution_count": 5,
   "metadata": {},
   "outputs": [
    {
     "data": {
      "text/html": [
       "<div>\n",
       "<style scoped>\n",
       "    .dataframe tbody tr th:only-of-type {\n",
       "        vertical-align: middle;\n",
       "    }\n",
       "\n",
       "    .dataframe tbody tr th {\n",
       "        vertical-align: top;\n",
       "    }\n",
       "\n",
       "    .dataframe thead th {\n",
       "        text-align: right;\n",
       "    }\n",
       "</style>\n",
       "<table border=\"1\" class=\"dataframe\">\n",
       "  <thead>\n",
       "    <tr style=\"text-align: right;\">\n",
       "      <th></th>\n",
       "      <th>INCIDENT_ID</th>\n",
       "      <th>DATE</th>\n",
       "      <th>X_1</th>\n",
       "      <th>X_2</th>\n",
       "      <th>X_3</th>\n",
       "      <th>X_4</th>\n",
       "      <th>X_5</th>\n",
       "      <th>X_6</th>\n",
       "      <th>X_7</th>\n",
       "      <th>X_8</th>\n",
       "      <th>X_9</th>\n",
       "      <th>X_10</th>\n",
       "      <th>X_11</th>\n",
       "      <th>X_12</th>\n",
       "      <th>X_13</th>\n",
       "      <th>X_14</th>\n",
       "      <th>X_15</th>\n",
       "      <th>MULTIPLE_OFFENSE</th>\n",
       "    </tr>\n",
       "  </thead>\n",
       "  <tbody>\n",
       "    <tr>\n",
       "      <th>0</th>\n",
       "      <td>CR_102659</td>\n",
       "      <td>04-JUL-04</td>\n",
       "      <td>0</td>\n",
       "      <td>36</td>\n",
       "      <td>34</td>\n",
       "      <td>2</td>\n",
       "      <td>1</td>\n",
       "      <td>5</td>\n",
       "      <td>6</td>\n",
       "      <td>1</td>\n",
       "      <td>6</td>\n",
       "      <td>1</td>\n",
       "      <td>174</td>\n",
       "      <td>1.0</td>\n",
       "      <td>92</td>\n",
       "      <td>29</td>\n",
       "      <td>36</td>\n",
       "      <td>0</td>\n",
       "    </tr>\n",
       "    <tr>\n",
       "      <th>1</th>\n",
       "      <td>CR_189752</td>\n",
       "      <td>18-JUL-17</td>\n",
       "      <td>1</td>\n",
       "      <td>37</td>\n",
       "      <td>37</td>\n",
       "      <td>0</td>\n",
       "      <td>0</td>\n",
       "      <td>11</td>\n",
       "      <td>17</td>\n",
       "      <td>1</td>\n",
       "      <td>6</td>\n",
       "      <td>1</td>\n",
       "      <td>236</td>\n",
       "      <td>1.0</td>\n",
       "      <td>103</td>\n",
       "      <td>142</td>\n",
       "      <td>34</td>\n",
       "      <td>1</td>\n",
       "    </tr>\n",
       "    <tr>\n",
       "      <th>2</th>\n",
       "      <td>CR_184637</td>\n",
       "      <td>15-MAR-17</td>\n",
       "      <td>0</td>\n",
       "      <td>3</td>\n",
       "      <td>2</td>\n",
       "      <td>3</td>\n",
       "      <td>5</td>\n",
       "      <td>1</td>\n",
       "      <td>0</td>\n",
       "      <td>2</td>\n",
       "      <td>3</td>\n",
       "      <td>1</td>\n",
       "      <td>174</td>\n",
       "      <td>1.0</td>\n",
       "      <td>110</td>\n",
       "      <td>93</td>\n",
       "      <td>34</td>\n",
       "      <td>1</td>\n",
       "    </tr>\n",
       "    <tr>\n",
       "      <th>3</th>\n",
       "      <td>CR_139071</td>\n",
       "      <td>13-FEB-09</td>\n",
       "      <td>0</td>\n",
       "      <td>33</td>\n",
       "      <td>32</td>\n",
       "      <td>2</td>\n",
       "      <td>1</td>\n",
       "      <td>7</td>\n",
       "      <td>1</td>\n",
       "      <td>1</td>\n",
       "      <td>6</td>\n",
       "      <td>1</td>\n",
       "      <td>249</td>\n",
       "      <td>1.0</td>\n",
       "      <td>72</td>\n",
       "      <td>29</td>\n",
       "      <td>34</td>\n",
       "      <td>1</td>\n",
       "    </tr>\n",
       "    <tr>\n",
       "      <th>4</th>\n",
       "      <td>CR_109335</td>\n",
       "      <td>13-APR-05</td>\n",
       "      <td>0</td>\n",
       "      <td>33</td>\n",
       "      <td>32</td>\n",
       "      <td>2</td>\n",
       "      <td>1</td>\n",
       "      <td>8</td>\n",
       "      <td>3</td>\n",
       "      <td>0</td>\n",
       "      <td>5</td>\n",
       "      <td>1</td>\n",
       "      <td>174</td>\n",
       "      <td>0.0</td>\n",
       "      <td>112</td>\n",
       "      <td>29</td>\n",
       "      <td>43</td>\n",
       "      <td>1</td>\n",
       "    </tr>\n",
       "  </tbody>\n",
       "</table>\n",
       "</div>"
      ],
      "text/plain": [
       "  INCIDENT_ID       DATE  X_1  X_2  X_3  X_4  X_5  X_6  X_7  X_8  X_9  X_10  \\\n",
       "0   CR_102659  04-JUL-04    0   36   34    2    1    5    6    1    6     1   \n",
       "1   CR_189752  18-JUL-17    1   37   37    0    0   11   17    1    6     1   \n",
       "2   CR_184637  15-MAR-17    0    3    2    3    5    1    0    2    3     1   \n",
       "3   CR_139071  13-FEB-09    0   33   32    2    1    7    1    1    6     1   \n",
       "4   CR_109335  13-APR-05    0   33   32    2    1    8    3    0    5     1   \n",
       "\n",
       "   X_11  X_12  X_13  X_14  X_15  MULTIPLE_OFFENSE  \n",
       "0   174   1.0    92    29    36                 0  \n",
       "1   236   1.0   103   142    34                 1  \n",
       "2   174   1.0   110    93    34                 1  \n",
       "3   249   1.0    72    29    34                 1  \n",
       "4   174   0.0   112    29    43                 1  "
      ]
     },
     "execution_count": 5,
     "metadata": {},
     "output_type": "execute_result"
    }
   ],
   "source": [
    "train_df.head()"
   ]
  },
  {
   "cell_type": "code",
   "execution_count": 6,
   "metadata": {},
   "outputs": [
    {
     "data": {
      "text/plain": [
       "<matplotlib.axes._subplots.AxesSubplot at 0x2d400173948>"
      ]
     },
     "execution_count": 6,
     "metadata": {},
     "output_type": "execute_result"
    },
    {
     "data": {
      "image/png": "[encoded data removed]",
      "text/plain": [
       "<Figure size 432x288 with 1 Axes>"
      ]
     },
     "metadata": {
      "needs_background": "light"
     },
     "output_type": "display_data"
    }
   ],
   "source": [
    "sns.countplot(train_df[\"MULTIPLE_OFFENSE\"])"
   ]
  },
  {
   "cell_type": "markdown",
   "metadata": {},
   "source": [
    "Looking at the distribution of target variable, we can say that the dataset is highly imbalanced where we have maximum incidents of hack.\n",
    "\n",
    "Lets take a look at the independent variables"
   ]
  },
  {
   "cell_type": "code",
   "execution_count": 7,
   "metadata": {},
   "outputs": [
    {
     "data": {
      "text/html": [
       "<div>\n",
       "<style scoped>\n",
       "    .dataframe tbody tr th:only-of-type {\n",
       "        vertical-align: middle;\n",
       "    }\n",
       "\n",
       "    .dataframe tbody tr th {\n",
       "        vertical-align: top;\n",
       "    }\n",
       "\n",
       "    .dataframe thead th {\n",
       "        text-align: right;\n",
       "    }\n",
       "</style>\n",
       "<table border=\"1\" class=\"dataframe\">\n",
       "  <thead>\n",
       "    <tr style=\"text-align: right;\">\n",
       "      <th></th>\n",
       "      <th>INCIDENT_ID</th>\n",
       "      <th>DATE</th>\n",
       "      <th>X_1</th>\n",
       "      <th>X_2</th>\n",
       "      <th>X_3</th>\n",
       "      <th>X_4</th>\n",
       "      <th>X_5</th>\n",
       "      <th>X_6</th>\n",
       "      <th>X_7</th>\n",
       "      <th>X_8</th>\n",
       "      <th>X_9</th>\n",
       "      <th>X_10</th>\n",
       "      <th>X_11</th>\n",
       "      <th>X_12</th>\n",
       "      <th>X_13</th>\n",
       "      <th>X_14</th>\n",
       "      <th>X_15</th>\n",
       "      <th>MULTIPLE_OFFENSE</th>\n",
       "    </tr>\n",
       "  </thead>\n",
       "  <tbody>\n",
       "    <tr>\n",
       "      <th>count</th>\n",
       "      <td>23856</td>\n",
       "      <td>23856</td>\n",
       "      <td>23856.000000</td>\n",
       "      <td>23856.000000</td>\n",
       "      <td>23856.000000</td>\n",
       "      <td>23856.000000</td>\n",
       "      <td>23856.000000</td>\n",
       "      <td>23856.000000</td>\n",
       "      <td>23856.000000</td>\n",
       "      <td>23856.000000</td>\n",
       "      <td>23856.000000</td>\n",
       "      <td>23856.000000</td>\n",
       "      <td>23856.000000</td>\n",
       "      <td>23674.000000</td>\n",
       "      <td>23856.000000</td>\n",
       "      <td>23856.000000</td>\n",
       "      <td>23856.000000</td>\n",
       "      <td>23856.000000</td>\n",
       "    </tr>\n",
       "    <tr>\n",
       "      <th>unique</th>\n",
       "      <td>23856</td>\n",
       "      <td>9121</td>\n",
       "      <td>NaN</td>\n",
       "      <td>NaN</td>\n",
       "      <td>NaN</td>\n",
       "      <td>NaN</td>\n",
       "      <td>NaN</td>\n",
       "      <td>NaN</td>\n",
       "      <td>NaN</td>\n",
       "      <td>NaN</td>\n",
       "      <td>NaN</td>\n",
       "      <td>NaN</td>\n",
       "      <td>NaN</td>\n",
       "      <td>NaN</td>\n",
       "      <td>NaN</td>\n",
       "      <td>NaN</td>\n",
       "      <td>NaN</td>\n",
       "      <td>NaN</td>\n",
       "    </tr>\n",
       "    <tr>\n",
       "      <th>top</th>\n",
       "      <td>CR_93317</td>\n",
       "      <td>12-SEP-01</td>\n",
       "      <td>NaN</td>\n",
       "      <td>NaN</td>\n",
       "      <td>NaN</td>\n",
       "      <td>NaN</td>\n",
       "      <td>NaN</td>\n",
       "      <td>NaN</td>\n",
       "      <td>NaN</td>\n",
       "      <td>NaN</td>\n",
       "      <td>NaN</td>\n",
       "      <td>NaN</td>\n",
       "      <td>NaN</td>\n",
       "      <td>NaN</td>\n",
       "      <td>NaN</td>\n",
       "      <td>NaN</td>\n",
       "      <td>NaN</td>\n",
       "      <td>NaN</td>\n",
       "    </tr>\n",
       "    <tr>\n",
       "      <th>freq</th>\n",
       "      <td>1</td>\n",
       "      <td>22</td>\n",
       "      <td>NaN</td>\n",
       "      <td>NaN</td>\n",
       "      <td>NaN</td>\n",
       "      <td>NaN</td>\n",
       "      <td>NaN</td>\n",
       "      <td>NaN</td>\n",
       "      <td>NaN</td>\n",
       "      <td>NaN</td>\n",
       "      <td>NaN</td>\n",
       "      <td>NaN</td>\n",
       "      <td>NaN</td>\n",
       "      <td>NaN</td>\n",
       "      <td>NaN</td>\n",
       "      <td>NaN</td>\n",
       "      <td>NaN</td>\n",
       "      <td>NaN</td>\n",
       "    </tr>\n",
       "    <tr>\n",
       "      <th>mean</th>\n",
       "      <td>NaN</td>\n",
       "      <td>NaN</td>\n",
       "      <td>0.483778</td>\n",
       "      <td>24.791206</td>\n",
       "      <td>24.637450</td>\n",
       "      <td>4.276744</td>\n",
       "      <td>2.455609</td>\n",
       "      <td>6.154175</td>\n",
       "      <td>4.876509</td>\n",
       "      <td>0.972460</td>\n",
       "      <td>4.924128</td>\n",
       "      <td>1.244802</td>\n",
       "      <td>206.954519</td>\n",
       "      <td>0.974064</td>\n",
       "      <td>85.237383</td>\n",
       "      <td>72.674296</td>\n",
       "      <td>33.464747</td>\n",
       "      <td>0.955231</td>\n",
       "    </tr>\n",
       "    <tr>\n",
       "      <th>std</th>\n",
       "      <td>NaN</td>\n",
       "      <td>NaN</td>\n",
       "      <td>1.439738</td>\n",
       "      <td>15.240231</td>\n",
       "      <td>15.135093</td>\n",
       "      <td>2.944672</td>\n",
       "      <td>1.963095</td>\n",
       "      <td>4.471756</td>\n",
       "      <td>3.881931</td>\n",
       "      <td>1.453144</td>\n",
       "      <td>1.362625</td>\n",
       "      <td>1.119301</td>\n",
       "      <td>93.033348</td>\n",
       "      <td>1.167725</td>\n",
       "      <td>27.597226</td>\n",
       "      <td>43.297320</td>\n",
       "      <td>8.386834</td>\n",
       "      <td>0.206800</td>\n",
       "    </tr>\n",
       "    <tr>\n",
       "      <th>min</th>\n",
       "      <td>NaN</td>\n",
       "      <td>NaN</td>\n",
       "      <td>0.000000</td>\n",
       "      <td>0.000000</td>\n",
       "      <td>0.000000</td>\n",
       "      <td>0.000000</td>\n",
       "      <td>0.000000</td>\n",
       "      <td>1.000000</td>\n",
       "      <td>0.000000</td>\n",
       "      <td>0.000000</td>\n",
       "      <td>0.000000</td>\n",
       "      <td>1.000000</td>\n",
       "      <td>0.000000</td>\n",
       "      <td>0.000000</td>\n",
       "      <td>0.000000</td>\n",
       "      <td>0.000000</td>\n",
       "      <td>0.000000</td>\n",
       "      <td>0.000000</td>\n",
       "    </tr>\n",
       "    <tr>\n",
       "      <th>25%</th>\n",
       "      <td>NaN</td>\n",
       "      <td>NaN</td>\n",
       "      <td>0.000000</td>\n",
       "      <td>7.000000</td>\n",
       "      <td>8.000000</td>\n",
       "      <td>2.000000</td>\n",
       "      <td>1.000000</td>\n",
       "      <td>3.000000</td>\n",
       "      <td>2.000000</td>\n",
       "      <td>0.000000</td>\n",
       "      <td>5.000000</td>\n",
       "      <td>1.000000</td>\n",
       "      <td>174.000000</td>\n",
       "      <td>1.000000</td>\n",
       "      <td>72.000000</td>\n",
       "      <td>29.000000</td>\n",
       "      <td>34.000000</td>\n",
       "      <td>1.000000</td>\n",
       "    </tr>\n",
       "    <tr>\n",
       "      <th>50%</th>\n",
       "      <td>NaN</td>\n",
       "      <td>NaN</td>\n",
       "      <td>0.000000</td>\n",
       "      <td>24.000000</td>\n",
       "      <td>24.000000</td>\n",
       "      <td>4.000000</td>\n",
       "      <td>3.000000</td>\n",
       "      <td>5.000000</td>\n",
       "      <td>4.000000</td>\n",
       "      <td>1.000000</td>\n",
       "      <td>5.000000</td>\n",
       "      <td>1.000000</td>\n",
       "      <td>249.000000</td>\n",
       "      <td>1.000000</td>\n",
       "      <td>98.000000</td>\n",
       "      <td>62.000000</td>\n",
       "      <td>34.000000</td>\n",
       "      <td>1.000000</td>\n",
       "    </tr>\n",
       "    <tr>\n",
       "      <th>75%</th>\n",
       "      <td>NaN</td>\n",
       "      <td>NaN</td>\n",
       "      <td>0.000000</td>\n",
       "      <td>36.000000</td>\n",
       "      <td>35.000000</td>\n",
       "      <td>6.000000</td>\n",
       "      <td>5.000000</td>\n",
       "      <td>8.000000</td>\n",
       "      <td>7.000000</td>\n",
       "      <td>1.000000</td>\n",
       "      <td>6.000000</td>\n",
       "      <td>1.000000</td>\n",
       "      <td>249.000000</td>\n",
       "      <td>1.000000</td>\n",
       "      <td>103.000000</td>\n",
       "      <td>107.000000</td>\n",
       "      <td>34.000000</td>\n",
       "      <td>1.000000</td>\n",
       "    </tr>\n",
       "    <tr>\n",
       "      <th>max</th>\n",
       "      <td>NaN</td>\n",
       "      <td>NaN</td>\n",
       "      <td>7.000000</td>\n",
       "      <td>52.000000</td>\n",
       "      <td>52.000000</td>\n",
       "      <td>10.000000</td>\n",
       "      <td>5.000000</td>\n",
       "      <td>19.000000</td>\n",
       "      <td>18.000000</td>\n",
       "      <td>99.000000</td>\n",
       "      <td>6.000000</td>\n",
       "      <td>90.000000</td>\n",
       "      <td>332.000000</td>\n",
       "      <td>90.000000</td>\n",
       "      <td>116.000000</td>\n",
       "      <td>142.000000</td>\n",
       "      <td>50.000000</td>\n",
       "      <td>1.000000</td>\n",
       "    </tr>\n",
       "  </tbody>\n",
       "</table>\n",
       "</div>"
      ],
      "text/plain": [
       "       INCIDENT_ID       DATE           X_1           X_2           X_3  \\\n",
       "count        23856      23856  23856.000000  23856.000000  23856.000000   \n",
       "unique       23856       9121           NaN           NaN           NaN   \n",
       "top       CR_93317  12-SEP-01           NaN           NaN           NaN   \n",
       "freq             1         22           NaN           NaN           NaN   \n",
       "mean           NaN        NaN      0.483778     24.791206     24.637450   \n",
       "std            NaN        NaN      1.439738     15.240231     15.135093   \n",
       "min            NaN        NaN      0.000000      0.000000      0.000000   \n",
       "25%            NaN        NaN      0.000000      7.000000      8.000000   \n",
       "50%            NaN        NaN      0.000000     24.000000     24.000000   \n",
       "75%            NaN        NaN      0.000000     36.000000     35.000000   \n",
       "max            NaN        NaN      7.000000     52.000000     52.000000   \n",
       "\n",
       "                 X_4           X_5           X_6           X_7           X_8  \\\n",
       "count   23856.000000  23856.000000  23856.000000  23856.000000  23856.000000   \n",
       "unique           NaN           NaN           NaN           NaN           NaN   \n",
       "top              NaN           NaN           NaN           NaN           NaN   \n",
       "freq             NaN           NaN           NaN           NaN           NaN   \n",
       "mean        4.276744      2.455609      6.154175      4.876509      0.972460   \n",
       "std         2.944672      1.963095      4.471756      3.881931      1.453144   \n",
       "min         0.000000      0.000000      1.000000      0.000000      0.000000   \n",
       "25%         2.000000      1.000000      3.000000      2.000000      0.000000   \n",
       "50%         4.000000      3.000000      5.000000      4.000000      1.000000   \n",
       "75%         6.000000      5.000000      8.000000      7.000000      1.000000   \n",
       "max        10.000000      5.000000     19.000000     18.000000     99.000000   \n",
       "\n",
       "                 X_9          X_10          X_11          X_12          X_13  \\\n",
       "count   23856.000000  23856.000000  23856.000000  23674.000000  23856.000000   \n",
       "unique           NaN           NaN           NaN           NaN           NaN   \n",
       "top              NaN           NaN           NaN           NaN           NaN   \n",
       "freq             NaN           NaN           NaN           NaN           NaN   \n",
       "mean        4.924128      1.244802    206.954519      0.974064     85.237383   \n",
       "std         1.362625      1.119301     93.033348      1.167725     27.597226   \n",
       "min         0.000000      1.000000      0.000000      0.000000      0.000000   \n",
       "25%         5.000000      1.000000    174.000000      1.000000     72.000000   \n",
       "50%         5.000000      1.000000    249.000000      1.000000     98.000000   \n",
       "75%         6.000000      1.000000    249.000000      1.000000    103.000000   \n",
       "max         6.000000     90.000000    332.000000     90.000000    116.000000   \n",
       "\n",
       "                X_14          X_15  MULTIPLE_OFFENSE  \n",
       "count   23856.000000  23856.000000      23856.000000  \n",
       "unique           NaN           NaN               NaN  \n",
       "top              NaN           NaN               NaN  \n",
       "freq             NaN           NaN               NaN  \n",
       "mean       72.674296     33.464747          0.955231  \n",
       "std        43.297320      8.386834          0.206800  \n",
       "min         0.000000      0.000000          0.000000  \n",
       "25%        29.000000     34.000000          1.000000  \n",
       "50%        62.000000     34.000000          1.000000  \n",
       "75%       107.000000     34.000000          1.000000  \n",
       "max       142.000000     50.000000          1.000000  "
      ]
     },
     "execution_count": 7,
     "metadata": {},
     "output_type": "execute_result"
    }
   ],
   "source": [
    "train_df.describe(include=\"all\")"
   ]
  },
  {
   "cell_type": "markdown",
   "metadata": {},
   "source": [
    "Through the details it seems that there are outliers in X_8, X_10, X_12. We will verify this through formula and graphs"
   ]
  },
  {
   "cell_type": "code",
   "execution_count": 8,
   "metadata": {},
   "outputs": [
    {
     "data": {
      "image/png": "[encoded data removed]",
      "text/plain": [
       "<Figure size 720x360 with 4 Axes>"
      ]
     },
     "metadata": {
      "needs_background": "light"
     },
     "output_type": "display_data"
    }
   ],
   "source": [
    "f, axs = plt.subplots(2, 2, sharey=True, figsize=(10,5))\n",
    "axs[0, 0].boxplot(train_df[\"X_8\"])\n",
    "axs[1, 0].boxplot(train_df[\"X_10\"])\n",
    "axs[1, 1].boxplot(train_df[\"X_10\"])\n",
    "plt.show()"
   ]
  },
  {
   "cell_type": "code",
   "execution_count": null,
   "metadata": {},
   "outputs": [],
   "source": [
    "# Check with outlier formula"
   ]
  },
  {
   "cell_type": "code",
   "execution_count": 9,
   "metadata": {},
   "outputs": [
    {
     "data": {
      "text/plain": [
       "INCIDENT_ID          object\n",
       "DATE                 object\n",
       "X_1                   int64\n",
       "X_2                   int64\n",
       "X_3                   int64\n",
       "X_4                   int64\n",
       "X_5                   int64\n",
       "X_6                   int64\n",
       "X_7                   int64\n",
       "X_8                   int64\n",
       "X_9                   int64\n",
       "X_10                  int64\n",
       "X_11                  int64\n",
       "X_12                float64\n",
       "X_13                  int64\n",
       "X_14                  int64\n",
       "X_15                  int64\n",
       "MULTIPLE_OFFENSE      int64\n",
       "dtype: object"
      ]
     },
     "execution_count": 9,
     "metadata": {},
     "output_type": "execute_result"
    }
   ],
   "source": [
    "train_df.dtypes"
   ]
  },
  {
   "cell_type": "markdown",
   "metadata": {},
   "source": [
    "All features are of numeric except for INCIDENT_ID, DATE\n",
    "\n",
    "We will try to use DATE but at a later stage.\n",
    "\n",
    "For now, lets look at the data more."
   ]
  },
  {
   "cell_type": "code",
   "execution_count": 10,
   "metadata": {},
   "outputs": [
    {
     "name": "stdout",
     "output_type": "stream",
     "text": [
      "INCIDENT_ID           0\n",
      "DATE                  0\n",
      "X_1                   0\n",
      "X_2                   0\n",
      "X_3                   0\n",
      "X_4                   0\n",
      "X_5                   0\n",
      "X_6                   0\n",
      "X_7                   0\n",
      "X_8                   0\n",
      "X_9                   0\n",
      "X_10                  0\n",
      "X_11                  0\n",
      "X_12                182\n",
      "X_13                  0\n",
      "X_14                  0\n",
      "X_15                  0\n",
      "MULTIPLE_OFFENSE      0\n",
      "dtype: int64\n",
      "##############################\n",
      "INCIDENT_ID      0\n",
      "DATE             0\n",
      "X_1              0\n",
      "X_2              0\n",
      "X_3              0\n",
      "X_4              0\n",
      "X_5              0\n",
      "X_6              0\n",
      "X_7              0\n",
      "X_8              0\n",
      "X_9              0\n",
      "X_10             0\n",
      "X_11             0\n",
      "X_12           127\n",
      "X_13             0\n",
      "X_14             0\n",
      "X_15             0\n",
      "dtype: int64\n"
     ]
    }
   ],
   "source": [
    "# Checking missing values in train and test data\n",
    "\n",
    "print(train_df.isnull().sum())\n",
    "print(\"#\"*30)\n",
    "print(test_df.isnull().sum())"
   ]
  },
  {
   "cell_type": "markdown",
   "metadata": {},
   "source": [
    "Only X_12 has missing values. This is the case in both train and test dataset.\n",
    "\n",
    "We will be handling missing values at a later stage.\n",
    "\n",
    "Let us continue with data analysis and check the count of unique values in train and test data"
   ]
  },
  {
   "cell_type": "code",
   "execution_count": 11,
   "metadata": {},
   "outputs": [
    {
     "name": "stdout",
     "output_type": "stream",
     "text": [
      "INCIDENT_ID         23856\n",
      "DATE                 9121\n",
      "X_1                     8\n",
      "X_2                    52\n",
      "X_3                    52\n",
      "X_4                    10\n",
      "X_5                     5\n",
      "X_6                    19\n",
      "X_7                    19\n",
      "X_8                    24\n",
      "X_9                     7\n",
      "X_10                   24\n",
      "X_11                  133\n",
      "X_12                   23\n",
      "X_13                   60\n",
      "X_14                   62\n",
      "X_15                   28\n",
      "MULTIPLE_OFFENSE        2\n",
      "dtype: int64\n",
      "##############################\n",
      "INCIDENT_ID    15903\n",
      "DATE            7939\n",
      "X_1                8\n",
      "X_2               52\n",
      "X_3               52\n",
      "X_4               10\n",
      "X_5                5\n",
      "X_6               19\n",
      "X_7               19\n",
      "X_8               22\n",
      "X_9                7\n",
      "X_10              18\n",
      "X_11             106\n",
      "X_12              17\n",
      "X_13              54\n",
      "X_14              51\n",
      "X_15              29\n",
      "dtype: int64\n"
     ]
    }
   ],
   "source": [
    "print(train_df.nunique())\n",
    "print(\"#\"*30)\n",
    "print(test_df.nunique())"
   ]
  },
  {
   "cell_type": "markdown",
   "metadata": {},
   "source": [
    "The count of unique values of train and test are different for few features.\n",
    "We'll combine train and test and check if the unique values are also different.\n",
    "\n",
    "This can in a way be used to identify whether a feature is continuous or discrete."
   ]
  },
  {
   "cell_type": "code",
   "execution_count": 12,
   "metadata": {},
   "outputs": [
    {
     "name": "stdout",
     "output_type": "stream",
     "text": [
      "INCIDENT_ID         23856\n",
      "DATE                 9121\n",
      "X_1                     8\n",
      "X_2                    52\n",
      "X_3                    52\n",
      "X_4                    10\n",
      "X_5                     5\n",
      "X_6                    19\n",
      "X_7                    19\n",
      "X_8                    24\n",
      "X_9                     7\n",
      "X_10                   24\n",
      "X_11                  133\n",
      "X_12                   23\n",
      "X_13                   60\n",
      "X_14                   62\n",
      "X_15                   28\n",
      "MULTIPLE_OFFENSE        2\n",
      "dtype: int64\n",
      "##############################\n",
      "INCIDENT_ID         39759\n",
      "DATE                 9942\n",
      "X_1                     8\n",
      "X_2                    52\n",
      "X_3                    52\n",
      "X_4                    10\n",
      "X_5                     5\n",
      "X_6                    19\n",
      "X_7                    19\n",
      "X_8                    27\n",
      "X_9                     7\n",
      "X_10                   26\n",
      "X_11                  150\n",
      "X_12                   24\n",
      "X_13                   68\n",
      "X_14                   69\n",
      "X_15                   36\n",
      "MULTIPLE_OFFENSE        2\n",
      "dtype: int64\n"
     ]
    }
   ],
   "source": [
    "main_df = pd.concat([train_df, test_df], ignore_index=True)\n",
    "print(train_df.nunique())\n",
    "print(\"#\"*30)\n",
    "print(main_df.nunique())"
   ]
  },
  {
   "cell_type": "markdown",
   "metadata": {},
   "source": [
    "With the count of unique values of main_df and train_df we can consider the following variables as continuous:\n",
    "\n",
    "- X_8, X_10, X_11, X_12, X_13, X_15\n",
    "\n",
    "Following can be considered as discrete:\n",
    "\n",
    "- X_1, X_2, X_3, X_4, X_5, X_6, X_7, X_9\n",
    "\n",
    "This is only an initial assumption, and we will be evaluating it more at later stage as few  assumed discrete features has too many categories."
   ]
  },
  {
   "cell_type": "code",
   "execution_count": 13,
   "metadata": {},
   "outputs": [
    {
     "data": {
      "text/plain": [
       "array([[<matplotlib.axes._subplots.AxesSubplot object at 0x000002D400391D08>,\n",
       "        <matplotlib.axes._subplots.AxesSubplot object at 0x000002D400D92A08>,\n",
       "        <matplotlib.axes._subplots.AxesSubplot object at 0x000002D40151ADC8>,\n",
       "        <matplotlib.axes._subplots.AxesSubplot object at 0x000002D400E247C8>],\n",
       "       [<matplotlib.axes._subplots.AxesSubplot object at 0x000002D400E5D208>,\n",
       "        <matplotlib.axes._subplots.AxesSubplot object at 0x000002D400E94E88>,\n",
       "        <matplotlib.axes._subplots.AxesSubplot object at 0x000002D400ECCF88>,\n",
       "        <matplotlib.axes._subplots.AxesSubplot object at 0x000002D400F09108>],\n",
       "       [<matplotlib.axes._subplots.AxesSubplot object at 0x000002D400F0EC48>,\n",
       "        <matplotlib.axes._subplots.AxesSubplot object at 0x000002D400F47E08>,\n",
       "        <matplotlib.axes._subplots.AxesSubplot object at 0x000002D400FB3188>,\n",
       "        <matplotlib.axes._subplots.AxesSubplot object at 0x000002D400FEB288>],\n",
       "       [<matplotlib.axes._subplots.AxesSubplot object at 0x000002D401084388>,\n",
       "        <matplotlib.axes._subplots.AxesSubplot object at 0x000002D4010BC4C8>,\n",
       "        <matplotlib.axes._subplots.AxesSubplot object at 0x000002D4010F4608>,\n",
       "        <matplotlib.axes._subplots.AxesSubplot object at 0x000002D401133E48>]],\n",
       "      dtype=object)"
      ]
     },
     "execution_count": 13,
     "metadata": {},
     "output_type": "execute_result"
    },
    {
     "data": {
      "image/png": "[encoded data removed]",
      "text/plain": [
       "<Figure size 720x720 with 16 Axes>"
      ]
     },
     "metadata": {
      "needs_background": "light"
     },
     "output_type": "display_data"
    }
   ],
   "source": [
    "train_df.hist(figsize=(10,10))"
   ]
  },
  {
   "cell_type": "markdown",
   "metadata": {},
   "source": [
    "We dont have any details about the features in the problem statement, so we'll have to deduce information from these features.\n",
    "With so much records, we notice that the unique values in most of the features is very less, making us think that they can be categorical features.\n",
    "\n",
    "\n",
    "Through the histogram of all the features, we can see that features - X_1, X_10, X_12, X_15, X_8,\n",
    "All these features have few unique values but count of most of the unique values is very less.\n",
    "\n",
    "\n",
    "Let's look if any of the features are correlated"
   ]
  },
  {
   "cell_type": "code",
   "execution_count": 14,
   "metadata": {},
   "outputs": [
    {
     "data": {
      "image/png": "[encoded data removed]",
      "text/plain": [
       "<Figure size 864x648 with 2 Axes>"
      ]
     },
     "metadata": {
      "needs_background": "light"
     },
     "output_type": "display_data"
    }
   ],
   "source": [
    "correlation_matrix = train_df.corr()\n",
    "fig = plt.figure(figsize=(12,9))\n",
    "sns.heatmap(correlation_matrix, square = True)\n",
    "plt.show()"
   ]
  },
  {
   "cell_type": "markdown",
   "metadata": {},
   "source": [
    "There is no high negative correlation between the features.\n",
    "But there is a high correlation between 2 features - X_12, X_10.\n",
    "\n",
    "As we know from above checks that X_12 has missing values, lets have a look at the values of these features and see if X_10 can help in computing the missing values.\n",
    "Another approach can be that since X_10, and X_12 are highly correlated, we can drop one of the feature. Better option at initial analysis would be to drop X_12.\n",
    "\n",
    "But for now, we will keep both features and see if X_10 can be used in computing missing values of X_12"
   ]
  },
  {
   "cell_type": "code",
   "execution_count": 15,
   "metadata": {},
   "outputs": [
    {
     "data": {
      "text/plain": [
       "5950"
      ]
     },
     "execution_count": 15,
     "metadata": {},
     "output_type": "execute_result"
    }
   ],
   "source": [
    "train_df[[\"X_10\", \"X_12\"]].head(20)\n",
    "train_df[[\"X_10\", \"X_12\"]].tail(20)\n",
    "\n",
    "len(train_df.loc[train_df[\"X_10\"] != train_df[\"X_12\"], [\"X_10\", \"X_12\"]])"
   ]
  },
  {
   "cell_type": "code",
   "execution_count": 16,
   "metadata": {},
   "outputs": [
    {
     "name": "stdout",
     "output_type": "stream",
     "text": [
      "1    181\n",
      "4      1\n",
      "Name: X_10, dtype: int64\n",
      "1    124\n",
      "2      3\n",
      "Name: X_10, dtype: int64\n"
     ]
    }
   ],
   "source": [
    "print(train_df.loc[train_df[\"X_12\"].isnull() == True, [\"X_10\", \"X_12\"]][\"X_10\"].value_counts())\n",
    "print(test_df.loc[test_df[\"X_12\"].isnull() == True, [\"X_10\", \"X_12\"]][\"X_10\"].value_counts())"
   ]
  },
  {
   "cell_type": "markdown",
   "metadata": {},
   "source": [
    "On checking the values of X_10 and X_12 we noticed that their values are same in most of the cases, so to impute the missing values of X_12, we can fill in the missing values with corresponding value in X_10 and see how it works.\n",
    "\n",
    "\n",
    "The missing values are mostly 1."
   ]
  },
  {
   "cell_type": "code",
   "execution_count": 17,
   "metadata": {},
   "outputs": [],
   "source": [
    "missing_val_index = train_df.loc[train_df[\"X_12\"].isnull() == True, [\"X_12\"]].index \n",
    "\n",
    "for i in missing_val_index:\n",
    "    train_df.iloc[[i], [13]] = train_df[\"X_10\"][i]\n",
    "    \n",
    "\n",
    "missing_val_index = test_df.loc[test_df[\"X_12\"].isnull() == True, [\"X_12\"]].index \n",
    "\n",
    "for i in missing_val_index:\n",
    "    test_df.iloc[[i], [13]] = test_df[\"X_10\"][i]"
   ]
  },
  {
   "cell_type": "code",
   "execution_count": 18,
   "metadata": {},
   "outputs": [
    {
     "name": "stdout",
     "output_type": "stream",
     "text": [
      "0\n",
      "0\n"
     ]
    }
   ],
   "source": [
    "print(train_df[\"X_12\"].isna().sum())\n",
    "print(test_df[\"X_12\"].isna().sum())"
   ]
  },
  {
   "cell_type": "markdown",
   "metadata": {},
   "source": [
    "# Approach-1"
   ]
  },
  {
   "cell_type": "markdown",
   "metadata": {},
   "source": [
    "In our first approach, we will only use numeric features to see how the models performes.\n",
    "\n",
    "Also since the data is highly imbalanced, using the dataset as is for building model won't give us a good model. The accuracy will be good, but not the recall score.\n",
    "\n",
    "So to handle this, we will be using oversampling technique SMOTE."
   ]
  },
  {
   "cell_type": "code",
   "execution_count": 19,
   "metadata": {},
   "outputs": [
    {
     "data": {
      "text/html": [
       "<div>\n",
       "<style scoped>\n",
       "    .dataframe tbody tr th:only-of-type {\n",
       "        vertical-align: middle;\n",
       "    }\n",
       "\n",
       "    .dataframe tbody tr th {\n",
       "        vertical-align: top;\n",
       "    }\n",
       "\n",
       "    .dataframe thead th {\n",
       "        text-align: right;\n",
       "    }\n",
       "</style>\n",
       "<table border=\"1\" class=\"dataframe\">\n",
       "  <thead>\n",
       "    <tr style=\"text-align: right;\">\n",
       "      <th></th>\n",
       "      <th>X_1</th>\n",
       "      <th>X_2</th>\n",
       "      <th>X_3</th>\n",
       "      <th>X_4</th>\n",
       "      <th>X_5</th>\n",
       "      <th>X_6</th>\n",
       "      <th>X_7</th>\n",
       "      <th>X_8</th>\n",
       "      <th>X_9</th>\n",
       "      <th>X_10</th>\n",
       "      <th>X_11</th>\n",
       "      <th>X_12</th>\n",
       "      <th>X_13</th>\n",
       "      <th>X_14</th>\n",
       "      <th>X_15</th>\n",
       "      <th>MULTIPLE_OFFENSE</th>\n",
       "    </tr>\n",
       "  </thead>\n",
       "  <tbody>\n",
       "    <tr>\n",
       "      <th>0</th>\n",
       "      <td>0</td>\n",
       "      <td>36</td>\n",
       "      <td>34</td>\n",
       "      <td>2</td>\n",
       "      <td>1</td>\n",
       "      <td>5</td>\n",
       "      <td>6</td>\n",
       "      <td>1</td>\n",
       "      <td>6</td>\n",
       "      <td>1</td>\n",
       "      <td>174</td>\n",
       "      <td>1.0</td>\n",
       "      <td>92</td>\n",
       "      <td>29</td>\n",
       "      <td>36</td>\n",
       "      <td>0.0</td>\n",
       "    </tr>\n",
       "    <tr>\n",
       "      <th>1</th>\n",
       "      <td>1</td>\n",
       "      <td>37</td>\n",
       "      <td>37</td>\n",
       "      <td>0</td>\n",
       "      <td>0</td>\n",
       "      <td>11</td>\n",
       "      <td>17</td>\n",
       "      <td>1</td>\n",
       "      <td>6</td>\n",
       "      <td>1</td>\n",
       "      <td>236</td>\n",
       "      <td>1.0</td>\n",
       "      <td>103</td>\n",
       "      <td>142</td>\n",
       "      <td>34</td>\n",
       "      <td>1.0</td>\n",
       "    </tr>\n",
       "    <tr>\n",
       "      <th>2</th>\n",
       "      <td>0</td>\n",
       "      <td>3</td>\n",
       "      <td>2</td>\n",
       "      <td>3</td>\n",
       "      <td>5</td>\n",
       "      <td>1</td>\n",
       "      <td>0</td>\n",
       "      <td>2</td>\n",
       "      <td>3</td>\n",
       "      <td>1</td>\n",
       "      <td>174</td>\n",
       "      <td>1.0</td>\n",
       "      <td>110</td>\n",
       "      <td>93</td>\n",
       "      <td>34</td>\n",
       "      <td>1.0</td>\n",
       "    </tr>\n",
       "    <tr>\n",
       "      <th>3</th>\n",
       "      <td>0</td>\n",
       "      <td>33</td>\n",
       "      <td>32</td>\n",
       "      <td>2</td>\n",
       "      <td>1</td>\n",
       "      <td>7</td>\n",
       "      <td>1</td>\n",
       "      <td>1</td>\n",
       "      <td>6</td>\n",
       "      <td>1</td>\n",
       "      <td>249</td>\n",
       "      <td>1.0</td>\n",
       "      <td>72</td>\n",
       "      <td>29</td>\n",
       "      <td>34</td>\n",
       "      <td>1.0</td>\n",
       "    </tr>\n",
       "    <tr>\n",
       "      <th>4</th>\n",
       "      <td>0</td>\n",
       "      <td>33</td>\n",
       "      <td>32</td>\n",
       "      <td>2</td>\n",
       "      <td>1</td>\n",
       "      <td>8</td>\n",
       "      <td>3</td>\n",
       "      <td>0</td>\n",
       "      <td>5</td>\n",
       "      <td>1</td>\n",
       "      <td>174</td>\n",
       "      <td>0.0</td>\n",
       "      <td>112</td>\n",
       "      <td>29</td>\n",
       "      <td>43</td>\n",
       "      <td>1.0</td>\n",
       "    </tr>\n",
       "  </tbody>\n",
       "</table>\n",
       "</div>"
      ],
      "text/plain": [
       "   X_1  X_2  X_3  X_4  X_5  X_6  X_7  X_8  X_9  X_10  X_11  X_12  X_13  X_14  \\\n",
       "0    0   36   34    2    1    5    6    1    6     1   174   1.0    92    29   \n",
       "1    1   37   37    0    0   11   17    1    6     1   236   1.0   103   142   \n",
       "2    0    3    2    3    5    1    0    2    3     1   174   1.0   110    93   \n",
       "3    0   33   32    2    1    7    1    1    6     1   249   1.0    72    29   \n",
       "4    0   33   32    2    1    8    3    0    5     1   174   0.0   112    29   \n",
       "\n",
       "   X_15  MULTIPLE_OFFENSE  \n",
       "0    36               0.0  \n",
       "1    34               1.0  \n",
       "2    34               1.0  \n",
       "3    34               1.0  \n",
       "4    43               1.0  "
      ]
     },
     "execution_count": 19,
     "metadata": {},
     "output_type": "execute_result"
    }
   ],
   "source": [
    "# Dropping \"INCIDENT_ID\" since it unique for all.\n",
    "# Dropping \"DATE\" as in this approach we will only use numeric features\n",
    "\n",
    "main_df = pd.concat([train_df, test_df], ignore_index=True)\n",
    "main_df.drop(columns=[\"INCIDENT_ID\", \"DATE\"], inplace=True)\n",
    "main_df.head()"
   ]
  },
  {
   "cell_type": "code",
   "execution_count": 20,
   "metadata": {},
   "outputs": [
    {
     "name": "stdout",
     "output_type": "stream",
     "text": [
      "23856\n",
      "15903\n"
     ]
    },
    {
     "name": "stderr",
     "output_type": "stream",
     "text": [
      "C:\\ProgramData\\Anaconda3\\lib\\site-packages\\pandas\\core\\frame.py:3997: SettingWithCopyWarning: \n",
      "A value is trying to be set on a copy of a slice from a DataFrame\n",
      "\n",
      "See the caveats in the documentation: https://pandas.pydata.org/pandas-docs/stable/user_guide/indexing.html#returning-a-view-versus-a-copy\n",
      "  errors=errors,\n"
     ]
    }
   ],
   "source": [
    "# Again dividing the data into train and test\n",
    "\n",
    "train_data = main_df.loc[main_df[\"MULTIPLE_OFFENSE\"].isna() == False, ]\n",
    "test_data = main_df.loc[main_df[\"MULTIPLE_OFFENSE\"].isna() == True, ]\n",
    "test_data.drop(columns=[\"MULTIPLE_OFFENSE\"], inplace=True)\n",
    "print(len(train_data))\n",
    "print(len(test_data))"
   ]
  },
  {
   "cell_type": "code",
   "execution_count": 21,
   "metadata": {},
   "outputs": [],
   "source": [
    "X = train_data.drop(columns=[\"MULTIPLE_OFFENSE\"])\n",
    "y = train_data[\"MULTIPLE_OFFENSE\"]"
   ]
  },
  {
   "cell_type": "markdown",
   "metadata": {},
   "source": [
    "We split the training data further into train and test so that we can validate the our model.\n",
    "\n",
    "We then use SMOTE for oversampling"
   ]
  },
  {
   "cell_type": "code",
   "execution_count": 22,
   "metadata": {},
   "outputs": [
    {
     "data": {
      "text/plain": [
       "0.0    17086\n",
       "1.0    17086\n",
       "dtype: int64"
      ]
     },
     "execution_count": 22,
     "metadata": {},
     "output_type": "execute_result"
    }
   ],
   "source": [
    "\n",
    "X_train, X_test, y_train, y_test = train_test_split(X, y)\n",
    "\n",
    "from imblearn.over_sampling import SMOTE\n",
    "oversample = SMOTE(random_state=42)\n",
    "ovr_sam_X, ovr_sam_y = oversample.fit_resample(X_train, list(y_train))\n",
    "ovr_sam_y = pd.Series(ovr_sam_y)\n",
    "ovr_sam_y.value_counts()"
   ]
  },
  {
   "cell_type": "code",
   "execution_count": 23,
   "metadata": {},
   "outputs": [
    {
     "data": {
      "text/html": [
       "<div>\n",
       "<style scoped>\n",
       "    .dataframe tbody tr th:only-of-type {\n",
       "        vertical-align: middle;\n",
       "    }\n",
       "\n",
       "    .dataframe tbody tr th {\n",
       "        vertical-align: top;\n",
       "    }\n",
       "\n",
       "    .dataframe thead th {\n",
       "        text-align: right;\n",
       "    }\n",
       "</style>\n",
       "<table border=\"1\" class=\"dataframe\">\n",
       "  <thead>\n",
       "    <tr style=\"text-align: right;\">\n",
       "      <th></th>\n",
       "      <th>X_1</th>\n",
       "      <th>X_2</th>\n",
       "      <th>X_3</th>\n",
       "      <th>X_4</th>\n",
       "      <th>X_5</th>\n",
       "      <th>X_6</th>\n",
       "      <th>X_7</th>\n",
       "      <th>X_8</th>\n",
       "      <th>X_9</th>\n",
       "      <th>X_10</th>\n",
       "      <th>X_11</th>\n",
       "      <th>X_12</th>\n",
       "      <th>X_13</th>\n",
       "      <th>X_14</th>\n",
       "      <th>X_15</th>\n",
       "      <th>MULTIPLE_OFFENSE</th>\n",
       "    </tr>\n",
       "  </thead>\n",
       "  <tbody>\n",
       "    <tr>\n",
       "      <th>0</th>\n",
       "      <td>0</td>\n",
       "      <td>4</td>\n",
       "      <td>4</td>\n",
       "      <td>6</td>\n",
       "      <td>5</td>\n",
       "      <td>5</td>\n",
       "      <td>6</td>\n",
       "      <td>0</td>\n",
       "      <td>5</td>\n",
       "      <td>1</td>\n",
       "      <td>174</td>\n",
       "      <td>1.0</td>\n",
       "      <td>103</td>\n",
       "      <td>93</td>\n",
       "      <td>34</td>\n",
       "      <td>1.0</td>\n",
       "    </tr>\n",
       "    <tr>\n",
       "      <th>1</th>\n",
       "      <td>0</td>\n",
       "      <td>21</td>\n",
       "      <td>23</td>\n",
       "      <td>4</td>\n",
       "      <td>1</td>\n",
       "      <td>5</td>\n",
       "      <td>6</td>\n",
       "      <td>1</td>\n",
       "      <td>6</td>\n",
       "      <td>1</td>\n",
       "      <td>249</td>\n",
       "      <td>1.0</td>\n",
       "      <td>103</td>\n",
       "      <td>29</td>\n",
       "      <td>34</td>\n",
       "      <td>1.0</td>\n",
       "    </tr>\n",
       "    <tr>\n",
       "      <th>2</th>\n",
       "      <td>0</td>\n",
       "      <td>36</td>\n",
       "      <td>34</td>\n",
       "      <td>2</td>\n",
       "      <td>1</td>\n",
       "      <td>3</td>\n",
       "      <td>5</td>\n",
       "      <td>1</td>\n",
       "      <td>2</td>\n",
       "      <td>1</td>\n",
       "      <td>316</td>\n",
       "      <td>1.0</td>\n",
       "      <td>92</td>\n",
       "      <td>142</td>\n",
       "      <td>34</td>\n",
       "      <td>1.0</td>\n",
       "    </tr>\n",
       "    <tr>\n",
       "      <th>3</th>\n",
       "      <td>0</td>\n",
       "      <td>24</td>\n",
       "      <td>24</td>\n",
       "      <td>0</td>\n",
       "      <td>0</td>\n",
       "      <td>5</td>\n",
       "      <td>6</td>\n",
       "      <td>1</td>\n",
       "      <td>2</td>\n",
       "      <td>1</td>\n",
       "      <td>0</td>\n",
       "      <td>1.0</td>\n",
       "      <td>72</td>\n",
       "      <td>142</td>\n",
       "      <td>34</td>\n",
       "      <td>1.0</td>\n",
       "    </tr>\n",
       "    <tr>\n",
       "      <th>4</th>\n",
       "      <td>0</td>\n",
       "      <td>4</td>\n",
       "      <td>4</td>\n",
       "      <td>6</td>\n",
       "      <td>5</td>\n",
       "      <td>5</td>\n",
       "      <td>6</td>\n",
       "      <td>1</td>\n",
       "      <td>6</td>\n",
       "      <td>1</td>\n",
       "      <td>316</td>\n",
       "      <td>1.0</td>\n",
       "      <td>72</td>\n",
       "      <td>29</td>\n",
       "      <td>34</td>\n",
       "      <td>1.0</td>\n",
       "    </tr>\n",
       "  </tbody>\n",
       "</table>\n",
       "</div>"
      ],
      "text/plain": [
       "   X_1  X_2  X_3  X_4  X_5  X_6  X_7  X_8  X_9  X_10  X_11  X_12  X_13  X_14  \\\n",
       "0    0    4    4    6    5    5    6    0    5     1   174   1.0   103    93   \n",
       "1    0   21   23    4    1    5    6    1    6     1   249   1.0   103    29   \n",
       "2    0   36   34    2    1    3    5    1    2     1   316   1.0    92   142   \n",
       "3    0   24   24    0    0    5    6    1    2     1     0   1.0    72   142   \n",
       "4    0    4    4    6    5    5    6    1    6     1   316   1.0    72    29   \n",
       "\n",
       "   X_15  MULTIPLE_OFFENSE  \n",
       "0    34               1.0  \n",
       "1    34               1.0  \n",
       "2    34               1.0  \n",
       "3    34               1.0  \n",
       "4    34               1.0  "
      ]
     },
     "execution_count": 23,
     "metadata": {},
     "output_type": "execute_result"
    }
   ],
   "source": [
    "ovr_sam_df = pd.concat([ovr_sam_X, pd.Series(ovr_sam_y)], axis=1)\n",
    "ovr_sam_df.rename(columns={0: \"MULTIPLE_OFFENSE\"}, inplace=True)\n",
    "ovr_sam_df.head()"
   ]
  },
  {
   "cell_type": "markdown",
   "metadata": {},
   "source": [
    "Now we have oversampled data to train our model.\n",
    "Lets start with Logistic Regression as our basemodel."
   ]
  },
  {
   "cell_type": "code",
   "execution_count": 60,
   "metadata": {},
   "outputs": [
    {
     "name": "stderr",
     "output_type": "stream",
     "text": [
      "C:\\ProgramData\\Anaconda3\\lib\\site-packages\\sklearn\\linear_model\\_logistic.py:940: ConvergenceWarning: lbfgs failed to converge (status=1):\n",
      "STOP: TOTAL NO. of ITERATIONS REACHED LIMIT.\n",
      "\n",
      "Increase the number of iterations (max_iter) or scale the data as shown in:\n",
      "    https://scikit-learn.org/stable/modules/preprocessing.html\n",
      "Please also refer to the documentation for alternative solver options:\n",
      "    https://scikit-learn.org/stable/modules/linear_model.html#logistic-regression\n",
      "  extra_warning_msg=_LOGISTIC_SOLVER_CONVERGENCE_MSG)\n"
     ]
    }
   ],
   "source": [
    "## LOGISTIC REGRESSION\n",
    "\n",
    "lr = LogisticRegression()\n",
    "lr.fit(ovr_sam_X, ovr_sam_y)\n",
    "pred = lr.predict(X_test)"
   ]
  },
  {
   "cell_type": "code",
   "execution_count": 61,
   "metadata": {},
   "outputs": [],
   "source": [
    "def model_eval(actual, predicted):\n",
    "    print(\"Accuracy is: \", accuracy_score(actual, predicted))\n",
    "    print(\"Recall Score is: \", recall_score(actual, predicted))\n",
    "    print(\"CONFUSION MATRIX\")\n",
    "    print(confusion_matrix(actual, predicted))\n",
    "    tn, fp, fn, tp = confusion_matrix(y_test, pred).ravel()\n",
    "    print(\"True Negative: \", tn)\n",
    "    print(\"False Positive: \", fp)\n",
    "    print(\"False Negative: \", fn)\n",
    "    print(\"True Positive: \", tp)"
   ]
  },
  {
   "cell_type": "code",
   "execution_count": 63,
   "metadata": {},
   "outputs": [],
   "source": [
    "def check_prec_rec_curve(model, actual, predicted):\n",
    "    average_precision = average_precision_score(actual, predicted)\n",
    "    print('Average precision-recall score: {0:0.2f}'.format(\n",
    "      average_precision))\n",
    "    disp = plot_precision_recall_curve(model, X_test, y_test)\n",
    "    disp.ax_.set_title('2-class Precision-Recall curve: '\n",
    "                   'AP={0:0.2f}'.format(average_precision))"
   ]
  },
  {
   "cell_type": "code",
   "execution_count": 65,
   "metadata": {},
   "outputs": [
    {
     "name": "stdout",
     "output_type": "stream",
     "text": [
      "Accuracy is:  0.8566398390342053\n",
      "Recall Score is:  0.8596983514556296\n",
      "CONFUSION MATRIX\n",
      "[[ 207   55]\n",
      " [ 800 4902]]\n",
      "True Negative:  207\n",
      "False Positive:  55\n",
      "False Negative:  800\n",
      "True Positive:  4902\n",
      "####################\n",
      "Average precision-recall score: 0.98\n"
     ]
    },
    {
     "data": {
      "image/png": "[encoded data removed]",
      "text/plain": [
       "<Figure size 432x288 with 1 Axes>"
      ]
     },
     "metadata": {
      "needs_background": "light"
     },
     "output_type": "display_data"
    }
   ],
   "source": [
    "model_eval(y_test, pred)\n",
    "print(\"#\"*20)\n",
    "check_prec_rec_curve(lr, y_test, pred)"
   ]
  },
  {
   "cell_type": "markdown",
   "metadata": {},
   "source": [
    "The recall score achieved through LogisticRegression is 0.85 which seems to be a good score in terms of the base model. Alsoo the precision-recall score is good.\n",
    "\n",
    "But we need to improve the prediction as major problem is, 800 cases are wrongly predicted as no hack.\n",
    "\n",
    "Also there are 55 FP out of 264 Actual Negatives i.e. Out of 264 cases, 55 cases are wrongly predicted as hacks\n",
    "\n",
    "\n",
    "\n",
    "We will now use RandomForest and check results."
   ]
  },
  {
   "cell_type": "code",
   "execution_count": 66,
   "metadata": {},
   "outputs": [
    {
     "name": "stdout",
     "output_type": "stream",
     "text": [
      "Accuracy is:  0.9919517102615694\n",
      "Recall Score is:  0.9952648193616275\n",
      "CONFUSION MATRIX\n",
      "[[ 241   21]\n",
      " [  27 5675]]\n",
      "True Negative:  241\n",
      "False Positive:  21\n",
      "False Negative:  27\n",
      "True Positive:  5675\n",
      "####################\n",
      "Average precision-recall score: 1.00\n"
     ]
    },
    {
     "data": {
      "image/png": "[encoded data removed]",
      "text/plain": [
       "<Figure size 432x288 with 1 Axes>"
      ]
     },
     "metadata": {
      "needs_background": "light"
     },
     "output_type": "display_data"
    }
   ],
   "source": [
    "rf = RandomForestClassifier(random_state=42)\n",
    "rf.fit(ovr_sam_X, ovr_sam_y)\n",
    "pred = rf.predict(X_test)\n",
    "\n",
    "model_eval(y_test, pred)\n",
    "print(\"#\"*20)\n",
    "check_prec_rec_curve(lr, y_test, pred)"
   ]
  },
  {
   "cell_type": "markdown",
   "metadata": {},
   "source": [
    "Through RandomForest, the count of FN has drastically came down to 27.\n",
    "\n",
    "i.e. Out of 5702, 27 cases has been falsly detected as no hack and 21 cases has falsly predicted as hack out of 264.\n",
    "\n",
    "We will try to tune the random forest model and see if it can bring down the FN count."
   ]
  },
  {
   "cell_type": "code",
   "execution_count": 40,
   "metadata": {},
   "outputs": [
    {
     "name": "stderr",
     "output_type": "stream",
     "text": [
      "C:\\ProgramData\\Anaconda3\\lib\\site-packages\\sklearn\\model_selection\\_validation.py:536: FitFailedWarning: Estimator fit failed. The score on this train-test partition for these parameters will be set to nan. Details: \n",
      "ValueError: min_samples_split must be an integer greater than 1 or a float in (0.0, 1.0]; got the integer 1\n",
      "\n",
      "  FitFailedWarning)\n",
      "C:\\ProgramData\\Anaconda3\\lib\\site-packages\\sklearn\\model_selection\\_validation.py:536: FitFailedWarning: Estimator fit failed. The score on this train-test partition for these parameters will be set to nan. Details: \n",
      "ValueError: min_samples_split must be an integer greater than 1 or a float in (0.0, 1.0]; got the integer 1\n",
      "\n",
      "  FitFailedWarning)\n",
      "C:\\ProgramData\\Anaconda3\\lib\\site-packages\\sklearn\\model_selection\\_validation.py:536: FitFailedWarning: Estimator fit failed. The score on this train-test partition for these parameters will be set to nan. Details: \n",
      "ValueError: min_samples_split must be an integer greater than 1 or a float in (0.0, 1.0]; got the integer 1\n",
      "\n",
      "  FitFailedWarning)\n",
      "C:\\ProgramData\\Anaconda3\\lib\\site-packages\\sklearn\\model_selection\\_validation.py:536: FitFailedWarning: Estimator fit failed. The score on this train-test partition for these parameters will be set to nan. Details: \n",
      "ValueError: min_samples_split must be an integer greater than 1 or a float in (0.0, 1.0]; got the integer 1\n",
      "\n",
      "  FitFailedWarning)\n",
      "C:\\ProgramData\\Anaconda3\\lib\\site-packages\\sklearn\\model_selection\\_validation.py:536: FitFailedWarning: Estimator fit failed. The score on this train-test partition for these parameters will be set to nan. Details: \n",
      "ValueError: min_samples_split must be an integer greater than 1 or a float in (0.0, 1.0]; got the integer 1\n",
      "\n",
      "  FitFailedWarning)\n",
      "C:\\ProgramData\\Anaconda3\\lib\\site-packages\\sklearn\\model_selection\\_validation.py:536: FitFailedWarning: Estimator fit failed. The score on this train-test partition for these parameters will be set to nan. Details: \n",
      "ValueError: min_samples_split must be an integer greater than 1 or a float in (0.0, 1.0]; got the integer 1\n",
      "\n",
      "  FitFailedWarning)\n",
      "C:\\ProgramData\\Anaconda3\\lib\\site-packages\\sklearn\\model_selection\\_validation.py:536: FitFailedWarning: Estimator fit failed. The score on this train-test partition for these parameters will be set to nan. Details: \n",
      "ValueError: min_samples_split must be an integer greater than 1 or a float in (0.0, 1.0]; got the integer 1\n",
      "\n",
      "  FitFailedWarning)\n",
      "C:\\ProgramData\\Anaconda3\\lib\\site-packages\\sklearn\\model_selection\\_validation.py:536: FitFailedWarning: Estimator fit failed. The score on this train-test partition for these parameters will be set to nan. Details: \n",
      "ValueError: min_samples_split must be an integer greater than 1 or a float in (0.0, 1.0]; got the integer 1\n",
      "\n",
      "  FitFailedWarning)\n",
      "C:\\ProgramData\\Anaconda3\\lib\\site-packages\\sklearn\\model_selection\\_validation.py:536: FitFailedWarning: Estimator fit failed. The score on this train-test partition for these parameters will be set to nan. Details: \n",
      "ValueError: min_samples_split must be an integer greater than 1 or a float in (0.0, 1.0]; got the integer 1\n",
      "\n",
      "  FitFailedWarning)\n",
      "C:\\ProgramData\\Anaconda3\\lib\\site-packages\\sklearn\\model_selection\\_validation.py:536: FitFailedWarning: Estimator fit failed. The score on this train-test partition for these parameters will be set to nan. Details: \n",
      "ValueError: min_samples_split must be an integer greater than 1 or a float in (0.0, 1.0]; got the integer 1\n",
      "\n",
      "  FitFailedWarning)\n",
      "C:\\ProgramData\\Anaconda3\\lib\\site-packages\\sklearn\\model_selection\\_validation.py:536: FitFailedWarning: Estimator fit failed. The score on this train-test partition for these parameters will be set to nan. Details: \n",
      "ValueError: min_samples_split must be an integer greater than 1 or a float in (0.0, 1.0]; got the integer 1\n",
      "\n",
      "  FitFailedWarning)\n",
      "C:\\ProgramData\\Anaconda3\\lib\\site-packages\\sklearn\\model_selection\\_validation.py:536: FitFailedWarning: Estimator fit failed. The score on this train-test partition for these parameters will be set to nan. Details: \n",
      "ValueError: min_samples_split must be an integer greater than 1 or a float in (0.0, 1.0]; got the integer 1\n",
      "\n",
      "  FitFailedWarning)\n",
      "C:\\ProgramData\\Anaconda3\\lib\\site-packages\\sklearn\\model_selection\\_validation.py:536: FitFailedWarning: Estimator fit failed. The score on this train-test partition for these parameters will be set to nan. Details: \n",
      "ValueError: min_samples_split must be an integer greater than 1 or a float in (0.0, 1.0]; got the integer 1\n",
      "\n",
      "  FitFailedWarning)\n",
      "C:\\ProgramData\\Anaconda3\\lib\\site-packages\\sklearn\\model_selection\\_validation.py:536: FitFailedWarning: Estimator fit failed. The score on this train-test partition for these parameters will be set to nan. Details: \n",
      "ValueError: min_samples_split must be an integer greater than 1 or a float in (0.0, 1.0]; got the integer 1\n",
      "\n",
      "  FitFailedWarning)\n",
      "C:\\ProgramData\\Anaconda3\\lib\\site-packages\\sklearn\\model_selection\\_validation.py:536: FitFailedWarning: Estimator fit failed. The score on this train-test partition for these parameters will be set to nan. Details: \n",
      "ValueError: min_samples_split must be an integer greater than 1 or a float in (0.0, 1.0]; got the integer 1\n",
      "\n",
      "  FitFailedWarning)\n"
     ]
    },
    {
     "data": {
      "text/plain": [
       "RandomForestClassifier(bootstrap=True, ccp_alpha=0.0, class_weight=None,\n",
       "                       criterion='gini', max_depth=None, max_features='auto',\n",
       "                       max_leaf_nodes=None, max_samples=None,\n",
       "                       min_impurity_decrease=0.5, min_impurity_split=None,\n",
       "                       min_samples_leaf=1, min_samples_split=3,\n",
       "                       min_weight_fraction_leaf=0.0, n_estimators=150,\n",
       "                       n_jobs=None, oob_score=False, random_state=42, verbose=0,\n",
       "                       warm_start=False)"
      ]
     },
     "execution_count": 40,
     "metadata": {},
     "output_type": "execute_result"
    }
   ],
   "source": [
    "parameters = {'n_estimators': [100, 150, 200, 250],\n",
    "    'min_samples_split': [2, 1, 3],\n",
    "    'min_samples_leaf': [1, 2, 3],\n",
    "    'min_impurity_decrease': [0.0, 0.1, 0.2, 0.5],\n",
    "    'ccp_alpha': [0.0, 0.1, 0.2, 0.3]} \n",
    "\n",
    "rcv = RandomizedSearchCV(estimator=RandomForestClassifier(random_state=42), param_distributions=parameters, \n",
    "                         scoring='recall')\n",
    "rcv.fit(ovr_sam_X, ovr_sam_y)\n",
    "rcv.best_estimator_"
   ]
  },
  {
   "cell_type": "code",
   "execution_count": 41,
   "metadata": {},
   "outputs": [
    {
     "data": {
      "text/plain": [
       "1.0"
      ]
     },
     "execution_count": 41,
     "metadata": {},
     "output_type": "execute_result"
    }
   ],
   "source": [
    "rcv.best_score_"
   ]
  },
  {
   "cell_type": "markdown",
   "metadata": {},
   "source": [
    "After parameter tuning, we got a hyper parameters values of the best RandomForest model. Lets use these parameters"
   ]
  },
  {
   "cell_type": "code",
   "execution_count": 67,
   "metadata": {},
   "outputs": [
    {
     "name": "stdout",
     "output_type": "stream",
     "text": [
      "Accuracy is:  0.9560697518443997\n",
      "Recall Score is:  1.0\n",
      "CONFUSION MATRIX\n",
      "[[   0  262]\n",
      " [   0 5702]]\n",
      "True Negative:  0\n",
      "False Positive:  262\n",
      "False Negative:  0\n",
      "True Positive:  5702\n",
      "####################\n",
      "Average precision-recall score: 0.96\n"
     ]
    },
    {
     "data": {
      "image/png": "[encoded data removed]",
      "text/plain": [
       "<Figure size 432x288 with 1 Axes>"
      ]
     },
     "metadata": {
      "needs_background": "light"
     },
     "output_type": "display_data"
    }
   ],
   "source": [
    "rf = RandomForestClassifier(bootstrap=True, ccp_alpha=0.0, class_weight=None,\n",
    "                       criterion='gini', max_depth=None, max_features='auto',\n",
    "                       max_leaf_nodes=None, max_samples=None,\n",
    "                       min_impurity_decrease=0.5, min_impurity_split=None,\n",
    "                       min_samples_leaf=1, min_samples_split=3,\n",
    "                       min_weight_fraction_leaf=0.0, n_estimators=150,\n",
    "                       n_jobs=None, oob_score=False, random_state=42, verbose=0,\n",
    "                       warm_start=False)\n",
    "rf.fit(ovr_sam_X, ovr_sam_y)\n",
    "pred = rf.predict(X_test)\n",
    "\n",
    "model_eval(y_test, pred)\n",
    "print(\"#\"*20)\n",
    "check_prec_rec_curve(rf, y_test, pred)"
   ]
  },
  {
   "cell_type": "markdown",
   "metadata": {},
   "source": [
    "If we look only at the recall score, the model is very good.\n",
    "\n",
    "Here we have achieved perfect recall score but we have compromised on the TN.\n",
    "\n",
    "As we can see, the model did not predict even a single case as no hack. This should not happen as the model is not catering the actual need. To the model, every transation is a hack which is not the case. \n",
    "\n",
    "So we cannot use the tuned model.\n",
    "\n",
    "Till now, the basic RandomForest model has given us the best results. Let us now try another model XGBoost"
   ]
  },
  {
   "cell_type": "code",
   "execution_count": 68,
   "metadata": {},
   "outputs": [
    {
     "name": "stdout",
     "output_type": "stream",
     "text": [
      "Accuracy is:  0.9988262910798122\n",
      "Recall Score is:  0.9987723605752368\n",
      "CONFUSION MATRIX\n",
      "[[ 262    0]\n",
      " [   7 5695]]\n",
      "True Negative:  262\n",
      "False Positive:  0\n",
      "False Negative:  7\n",
      "True Positive:  5695\n",
      "####################\n",
      "Average precision-recall score: 1.00\n"
     ]
    },
    {
     "data": {
      "image/png": "[encoded data removed]",
      "text/plain": [
       "<Figure size 432x288 with 1 Axes>"
      ]
     },
     "metadata": {
      "needs_background": "light"
     },
     "output_type": "display_data"
    }
   ],
   "source": [
    "xgb1 = xgb.XGBClassifier(random_state=42, max_depth=7)\n",
    "xgb1.fit(ovr_sam_X, ovr_sam_y)\n",
    "pred = xgb1.predict(X_test)\n",
    "\n",
    "model_eval(y_test, pred)\n",
    "print(\"#\"*20)\n",
    "check_prec_rec_curve(xgb1, y_test, pred)"
   ]
  },
  {
   "cell_type": "markdown",
   "metadata": {},
   "source": [
    "The XGBooost Classifier has provided better results than the random forest.\n",
    "\n",
    "The Recall score is very good allong with the accuracy score.\n",
    "\n",
    "The model has predicted all no hack cases correctly as the count of FP is 0.\n",
    "The model has has falsely predicted 7 cases as no hacks out of 5702 hack cases.\n",
    "\n",
    "We wont be doing hyper parameter tuning for XGBoost as we already know from Random Forest tuning that we will be getting a higher recall score, but that will lead to a very sturdy model which assumes every case as a hack case, which is not a good approach."
   ]
  },
  {
   "cell_type": "markdown",
   "metadata": {},
   "source": [
    "Now let us use this model to predict the outcome for test data"
   ]
  },
  {
   "cell_type": "code",
   "execution_count": 56,
   "metadata": {},
   "outputs": [],
   "source": [
    "output = xgb1.predict(test_data)"
   ]
  },
  {
   "cell_type": "code",
   "execution_count": 57,
   "metadata": {},
   "outputs": [],
   "source": [
    "def create_output_file(output, filename=\"default.csv\"):\n",
    "    output = pd.DataFrame(output, columns=[\"MULTIPLE_OFFENSE\"])\n",
    "    print(output[\"MULTIPLE_OFFENSE\"].value_counts())\n",
    "    inc_id = pd.DataFrame(test_df[\"INCIDENT_ID\"], columns=[\"INCIDENT_ID\"])\n",
    "    pd.concat([inc_id, output], axis=1).to_csv(filename, index=False)\n",
    "    print(\"File '{}' created successfully\".format(filename))"
   ]
  },
  {
   "cell_type": "code",
   "execution_count": 58,
   "metadata": {},
   "outputs": [
    {
     "name": "stdout",
     "output_type": "stream",
     "text": [
      "1.0    15166\n",
      "0.0      737\n",
      "Name: MULTIPLE_OFFENSE, dtype: int64\n",
      "File 'Ankit_Deshmukh_XGB_V2_0.csv' created successfully\n"
     ]
    }
   ],
   "source": [
    "create_output_file(output, \"Ankit_Deshmukh_XGB_V2_0.csv\")"
   ]
  },
  {
   "cell_type": "markdown",
   "metadata": {},
   "source": [
    "The Score achieved for the test data is - 99.10."
   ]
  },
  {
   "cell_type": "markdown",
   "metadata": {},
   "source": [
    "# SUMMARY"
   ]
  },
  {
   "cell_type": "markdown",
   "metadata": {},
   "source": [
    "During the analysis the main thing we identified that majority of the features are numeric in nature and the data is highly imbalanced with majority records of hack and minority records of no-hack.\n",
    "\n",
    "There were outliers present in the dataset but we ignored them in our approach.\n",
    "\n",
    "The features were not correlated with each other except for X_10 and X_12. As part of our basic approach, we did not remove the feature.\n",
    "\n",
    "We simply removed the non-numeric features i.e. INCIDENT_ID and DATE.\n",
    "\n",
    "Used oversampling technique SMOTE to deal with the imbalanced data.\n",
    "We developed 3 models, tuned them and evaluated their performances - LogisticRegression, RandomForest, XGBoostClassifier\n",
    "\n",
    "After evaluation, we conculuded that XBGoost is the best performing model."
   ]
  },
  {
   "cell_type": "markdown",
   "metadata": {},
   "source": [
    "# NOTE"
   ]
  },
  {
   "cell_type": "markdown",
   "metadata": {},
   "source": [
    "This is the final file which we are using as the upload.\n",
    "\n",
    "There are few other approaches as well which we tried but are not present in the file. Following are their analysis:\n",
    "\n",
    "    -Approach-2\n",
    "        - Cosndered X_1, X4, X5, X_9, MONTH as categorical data. Created their dummy variables\n",
    "        - Scaled the continuous features\n",
    "        - Used OneClassSVM novelty model to predict hacks.\n",
    "        - The recall score achieved was 65\n",
    "        \n",
    "    - Approach-3\n",
    "        - Used DATE feature and performed feature extracted and created 3 new features - date of the month, month and year\n",
    "        - Cosndered X_1, X4, X5, X_9, MONTH as categorical data. Created their dummy variables\n",
    "        - Used another anomaly detection algorithm - IsolationForest\n",
    "        - The recall score achieved was 60\n",
    "        \n",
    "Through these approached we deduced that the anomaly detection algoriths are not performing well and considering few features as categorical is also not working for us.\n",
    "\n",
    "So we went ahead with oversampling which gave us much better results."
   ]
  },
  {
   "cell_type": "code",
   "execution_count": null,
   "metadata": {},
   "outputs": [],
   "source": []
  }
 ],
 "metadata": {
  "kernelspec": {
   "display_name": "Python 3",
   "language": "python",
   "name": "python3"
  },
  "language_info": {
   "codemirror_mode": {
    "name": "ipython",
    "version": 3
   },
   "file_extension": ".py",
   "mimetype": "text/x-python",
   "name": "python",
   "nbconvert_exporter": "python",
   "pygments_lexer": "ipython3",
   "version": "3.7.6"
  }
 },
 "nbformat": 4,
 "nbformat_minor": 4
}
